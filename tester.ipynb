{
 "cells": [
  {
   "cell_type": "code",
   "execution_count": 1,
   "id": "e1b4207e",
   "metadata": {},
   "outputs": [],
   "source": [
    "%load_ext autoreload\n",
    "%autoreload 2"
   ]
  },
  {
   "cell_type": "code",
   "execution_count": 31,
   "id": "a9cc3197",
   "metadata": {},
   "outputs": [
    {
     "name": "stdout",
     "output_type": "stream",
     "text": [
      "Dummy dataset 'chat_traces.pkl' created successfully with 100 samples in the new format.\n"
     ]
    }
   ],
   "source": [
    "import pickle\n",
    "\n",
    "def create_dummy_dataset():\n",
    "    \"\"\"\n",
    "    Creates a simple dummy dataset for fine-tuning.\n",
    "    The dataset is a list of dictionaries, where each dictionary\n",
    "    represents a chat turn with a system prompt, a user query, and a response.\n",
    "    \"\"\"\n",
    "    data = [\n",
    "        {\n",
    "            \"system\": \"You are a helpful assistant that provides concise answers.\",\n",
    "            \"user\": \"What is the capital of France?\", \n",
    "            \"response\": \"The capital of France is Paris.\"\n",
    "        },\n",
    "        {\n",
    "            \"system\": \"You are a physics teacher who explains complex topics in simple terms.\",\n",
    "            \"user\": \"Explain the theory of relativity in simple terms.\", \n",
    "            \"response\": \"Einstein's theory of relativity is about how space and time are linked. It has two parts: special relativity, which deals with speed in a straight line, and general relativity, which explains gravity as a curving of space and time by mass and energy.\"\n",
    "        },\n",
    "        {\n",
    "            \"system\": \"You are a poet who responds with creative and short poems.\",\n",
    "            \"user\": \"Write a short poem about the ocean.\", \n",
    "            \"response\": \"Vast and blue, a world unseen,\\nWhere ancient secrets lie between.\\nThe waves that crash upon the shore,\\nWhisper tales forevermore.\"\n",
    "        },\n",
    "        {\n",
    "            \"system\": \"You are a helpful assistant that provides concise answers.\",\n",
    "            \"user\": \"What is 2+2?\",\n",
    "            \"response\": \"2+2 equals 4.\"\n",
    "        }\n",
    "    ]\n",
    "\n",
    "    # Create a larger dataset for more realistic splitting (100 samples)\n",
    "    extended_data = []\n",
    "    for _ in range(25):\n",
    "        extended_data.extend(data)\n",
    "\n",
    "    # Save to a pickle file\n",
    "    with open(\"chat_traces.pkl\", \"wb\") as f:\n",
    "        pickle.dump(extended_data, f)\n",
    "    \n",
    "    print(\"Dummy dataset 'chat_traces.pkl' created successfully with 100 samples in the new format.\")\n",
    "\n",
    "if __name__ == \"__main__\":\n",
    "    create_dummy_dataset()\n",
    "\n"
   ]
  },
  {
   "cell_type": "code",
   "execution_count": 32,
   "id": "6798268b",
   "metadata": {},
   "outputs": [
    {
     "name": "stdout",
     "output_type": "stream",
     "text": [
      "Dummy dataset 'chat_traces.pkl' created successfully with 100 samples in the new format.\n"
     ]
    }
   ],
   "source": [
    "create_dummy_dataset()"
   ]
  },
  {
   "cell_type": "markdown",
   "id": "273ae217",
   "metadata": {},
   "source": [
    "# Test training script configs"
   ]
  },
  {
   "cell_type": "code",
   "execution_count": 33,
   "id": "37ff138d",
   "metadata": {},
   "outputs": [],
   "source": [
    "from train import *"
   ]
  },
  {
   "cell_type": "code",
   "execution_count": 35,
   "id": "9f1eed3d",
   "metadata": {},
   "outputs": [
    {
     "name": "stdout",
     "output_type": "stream",
     "text": [
      "Loading and preparing dataset...\n"
     ]
    },
    {
     "name": "stderr",
     "output_type": "stream",
     "text": [
      "Map: 100%|██████████| 100/100 [00:00<00:00, 20672.80 examples/s]"
     ]
    },
    {
     "name": "stdout",
     "output_type": "stream",
     "text": [
      "Dataset loaded with 100 examples.\n",
      "Sample prompt:\n",
      " <|im_start|>system\n",
      "You are a helpful assistant that provides concise answers.<|im_end|>\n",
      "<|im_start|>user\n",
      "What is the capital of France?<|im_end|>\n",
      "<|im_start|>assistant\n",
      "The capital of France is Paris.<|im_end|>\n",
      "Loading model and tokenizer...\n"
     ]
    },
    {
     "name": "stderr",
     "output_type": "stream",
     "text": [
      "\n"
     ]
    }
   ],
   "source": [
    "config = load_config(\"./configs/qwen_conf.yml\")\n",
    "\n",
    "# Set up W&B environment variables\n",
    "os.environ[\"WANDB_PROJECT\"] = config['wandb_project']\n",
    "\n",
    "# 2. Load and Prepare the Dataset\n",
    "print(\"Loading and preparing dataset...\")\n",
    "with open('chat_traces.pkl', 'rb') as f:\n",
    "    data = pickle.load(f)\n",
    "\n",
    "dataset = Dataset.from_list(data)\n",
    "# Pass model name to the prompt creation function to handle different prompt formats\n",
    "dataset = dataset.map(lambda sample: create_prompt(sample, model_name=config.get('model_name', '')))\n",
    "print(f\"Dataset loaded with {len(dataset)} examples.\")\n",
    "print(\"Sample prompt:\\n\", dataset[0]['text'])\n",
    "\n",
    "# 3. Load Tokenizer and Model\n",
    "print(\"Loading model and tokenizer...\")\n",
    "tokenizer = AutoTokenizer.from_pretrained(config['model_name'])\n",
    "tokenizer.model_max_length = config.get('max_seq_length', 1024)\n",
    "\n",
    "# Llama 3 does not have a pad token, so we add one\n",
    "if tokenizer.pad_token is None:\n",
    "    tokenizer.add_special_tokens({'pad_token': '[PAD]'})\n",
    "\n",
    "# Determine the response template based on model name to correctly mask labels\n",
    "model_name_lower = config['model_name'].lower()\n",
    "if \"qwen\" in model_name_lower:\n",
    "    response_template = \"<|im_start|>assistant\\n\"\n",
    "else: # Default to Llama 3\n",
    "    response_template = \"<|start_header_id|>assistant<|end_header_id|>\\n\\n\"\n",
    "\n",
    "data_collator = SFTDataCollator(tokenizer=tokenizer)"
   ]
  },
  {
   "cell_type": "code",
   "execution_count": 36,
   "id": "a10a4591",
   "metadata": {},
   "outputs": [
    {
     "data": {
      "text/plain": [
       "{'system': ['You are a helpful assistant that provides concise answers.',\n",
       "  'You are a physics teacher who explains complex topics in simple terms.',\n",
       "  'You are a poet who responds with creative and short poems.',\n",
       "  'You are a helpful assistant that provides concise answers.',\n",
       "  'You are a helpful assistant that provides concise answers.'],\n",
       " 'user': ['What is the capital of France?',\n",
       "  'Explain the theory of relativity in simple terms.',\n",
       "  'Write a short poem about the ocean.',\n",
       "  'What is 2+2?',\n",
       "  'What is the capital of France?'],\n",
       " 'response': ['The capital of France is Paris.',\n",
       "  \"Einstein's theory of relativity is about how space and time are linked. It has two parts: special relativity, which deals with speed in a straight line, and general relativity, which explains gravity as a curving of space and time by mass and energy.\",\n",
       "  'Vast and blue, a world unseen,\\nWhere ancient secrets lie between.\\nThe waves that crash upon the shore,\\nWhisper tales forevermore.',\n",
       "  '2+2 equals 4.',\n",
       "  'The capital of France is Paris.'],\n",
       " 'prompt': ['<|im_start|>system\\nYou are a helpful assistant that provides concise answers.<|im_end|>\\n<|im_start|>user\\nWhat is the capital of France?<|im_end|>\\n',\n",
       "  '<|im_start|>system\\nYou are a physics teacher who explains complex topics in simple terms.<|im_end|>\\n<|im_start|>user\\nExplain the theory of relativity in simple terms.<|im_end|>\\n',\n",
       "  '<|im_start|>system\\nYou are a poet who responds with creative and short poems.<|im_end|>\\n<|im_start|>user\\nWrite a short poem about the ocean.<|im_end|>\\n',\n",
       "  '<|im_start|>system\\nYou are a helpful assistant that provides concise answers.<|im_end|>\\n<|im_start|>user\\nWhat is 2+2?<|im_end|>\\n',\n",
       "  '<|im_start|>system\\nYou are a helpful assistant that provides concise answers.<|im_end|>\\n<|im_start|>user\\nWhat is the capital of France?<|im_end|>\\n'],\n",
       " 'text': ['<|im_start|>system\\nYou are a helpful assistant that provides concise answers.<|im_end|>\\n<|im_start|>user\\nWhat is the capital of France?<|im_end|>\\n<|im_start|>assistant\\nThe capital of France is Paris.<|im_end|>',\n",
       "  \"<|im_start|>system\\nYou are a physics teacher who explains complex topics in simple terms.<|im_end|>\\n<|im_start|>user\\nExplain the theory of relativity in simple terms.<|im_end|>\\n<|im_start|>assistant\\nEinstein's theory of relativity is about how space and time are linked. It has two parts: special relativity, which deals with speed in a straight line, and general relativity, which explains gravity as a curving of space and time by mass and energy.<|im_end|>\",\n",
       "  '<|im_start|>system\\nYou are a poet who responds with creative and short poems.<|im_end|>\\n<|im_start|>user\\nWrite a short poem about the ocean.<|im_end|>\\n<|im_start|>assistant\\nVast and blue, a world unseen,\\nWhere ancient secrets lie between.\\nThe waves that crash upon the shore,\\nWhisper tales forevermore.<|im_end|>',\n",
       "  '<|im_start|>system\\nYou are a helpful assistant that provides concise answers.<|im_end|>\\n<|im_start|>user\\nWhat is 2+2?<|im_end|>\\n<|im_start|>assistant\\n2+2 equals 4.<|im_end|>',\n",
       "  '<|im_start|>system\\nYou are a helpful assistant that provides concise answers.<|im_end|>\\n<|im_start|>user\\nWhat is the capital of France?<|im_end|>\\n<|im_start|>assistant\\nThe capital of France is Paris.<|im_end|>']}"
      ]
     },
     "execution_count": 36,
     "metadata": {},
     "output_type": "execute_result"
    }
   ],
   "source": [
    "dataset[:5]"
   ]
  },
  {
   "cell_type": "code",
   "execution_count": 40,
   "id": "55aba05b",
   "metadata": {},
   "outputs": [
    {
     "data": {
      "text/plain": [
       "{'system': 'You are a helpful assistant that provides concise answers.',\n",
       " 'user': 'What is the capital of France?',\n",
       " 'response': 'The capital of France is Paris.',\n",
       " 'prompt': '<|im_start|>system\\nYou are a helpful assistant that provides concise answers.<|im_end|>\\n<|im_start|>user\\nWhat is the capital of France?<|im_end|>\\n',\n",
       " 'text': '<|im_start|>system\\nYou are a helpful assistant that provides concise answers.<|im_end|>\\n<|im_start|>user\\nWhat is the capital of France?<|im_end|>\\n<|im_start|>assistant\\nThe capital of France is Paris.<|im_end|>'}"
      ]
     },
     "execution_count": 40,
     "metadata": {},
     "output_type": "execute_result"
    }
   ],
   "source": [
    "dataset[0]"
   ]
  },
  {
   "cell_type": "code",
   "execution_count": 38,
   "id": "1179a5d7",
   "metadata": {},
   "outputs": [],
   "source": [
    "a = data_collator([dataset[0]])"
   ]
  },
  {
   "cell_type": "code",
   "execution_count": 41,
   "id": "fcd136a4",
   "metadata": {},
   "outputs": [
    {
     "data": {
      "text/plain": [
       "{'input_ids': tensor([[151644,   8948,    198,   2610,    525,    264,  10950,  17847,    429,\n",
       "           5707,  63594,  11253,     13, 151645,    198, 151644,    872,    198,\n",
       "           3838,    374,    279,   6722,    315,   9625,     30, 151645,    198,\n",
       "         151644,  77091,    198,    785,   6722,    315,   9625,    374,  12095,\n",
       "             13, 151645]]), 'attention_mask': tensor([[1, 1, 1, 1, 1, 1, 1, 1, 1, 1, 1, 1, 1, 1, 1, 1, 1, 1, 1, 1, 1, 1, 1, 1,\n",
       "         1, 1, 1, 1, 1, 1, 1, 1, 1, 1, 1, 1, 1, 1]]), 'labels': tensor([[  -100,   -100,   -100,   -100,   -100,   -100,   -100,   -100,   -100,\n",
       "           -100,   -100,   -100,   -100,   -100,   -100,   -100,   -100,   -100,\n",
       "           -100,   -100,   -100,   -100,   -100,   -100,   -100,   -100,   -100,\n",
       "         151644,  77091,    198,    785,   6722,    315,   9625,    374,  12095,\n",
       "             13, 151645]])}"
      ]
     },
     "execution_count": 41,
     "metadata": {},
     "output_type": "execute_result"
    }
   ],
   "source": [
    "a"
   ]
  },
  {
   "cell_type": "code",
   "execution_count": 39,
   "id": "4d8512ed",
   "metadata": {},
   "outputs": [
    {
     "data": {
      "text/plain": [
       "tensor([[151644,   8948,    198,   2610,    525,    264,  10950,  17847,    429,\n",
       "           5707,  63594,  11253,     13, 151645,    198, 151644,    872,    198,\n",
       "           3838,    374,    279,   6722,    315,   9625,     30, 151645,    198,\n",
       "         151644,  77091,    198,    785,   6722,    315,   9625,    374,  12095,\n",
       "             13, 151645]])"
      ]
     },
     "execution_count": 39,
     "metadata": {},
     "output_type": "execute_result"
    }
   ],
   "source": [
    "a['input_ids']"
   ]
  },
  {
   "cell_type": "code",
   "execution_count": 42,
   "id": "278a201c",
   "metadata": {},
   "outputs": [
    {
     "data": {
      "text/plain": [
       "'<|im_start|>'"
      ]
     },
     "execution_count": 42,
     "metadata": {},
     "output_type": "execute_result"
    }
   ],
   "source": [
    "tokenizer.decode(151644)"
   ]
  },
  {
   "cell_type": "code",
   "execution_count": 30,
   "id": "e007781a",
   "metadata": {},
   "outputs": [
    {
     "data": {
      "text/plain": [
       "'<|im_start|>system\\nYou are a helpful assistant.<|im_end|>\\n<|im_start|>user\\nWhat is the capital of France?<|im_end|>\\n<|im_start|>assistant\\nThe capital of France is Paris.<|im_end|>'"
      ]
     },
     "execution_count": 30,
     "metadata": {},
     "output_type": "execute_result"
    }
   ],
   "source": [
    "tokenizer.decode(a['input_ids'][0])"
   ]
  },
  {
   "cell_type": "code",
   "execution_count": null,
   "id": "51e8010a",
   "metadata": {},
   "outputs": [],
   "source": []
  }
 ],
 "metadata": {
  "kernelspec": {
   "display_name": "dai",
   "language": "python",
   "name": "python3"
  },
  "language_info": {
   "codemirror_mode": {
    "name": "ipython",
    "version": 3
   },
   "file_extension": ".py",
   "mimetype": "text/x-python",
   "name": "python",
   "nbconvert_exporter": "python",
   "pygments_lexer": "ipython3",
   "version": "3.12.7"
  }
 },
 "nbformat": 4,
 "nbformat_minor": 5
}
